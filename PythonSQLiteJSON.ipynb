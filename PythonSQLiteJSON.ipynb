{
 "cells": [
  {
   "cell_type": "code",
   "execution_count": 6,
   "metadata": {},
   "outputs": [
    {
     "name": "stdout",
     "output_type": "stream",
     "text": [
      "3.39.3\n"
     ]
    }
   ],
   "source": [
    "import sqlite3\n",
    "\n",
    "print(sqlite3.sqlite_version)"
   ]
  },
  {
   "cell_type": "code",
   "execution_count": 7,
   "metadata": {},
   "outputs": [],
   "source": [
    "conn = sqlite3.connect('pythonjsondemo.db') # permanent database"
   ]
  },
  {
   "cell_type": "code",
   "execution_count": 8,
   "metadata": {},
   "outputs": [],
   "source": [
    "cursor = conn.cursor()"
   ]
  },
  {
   "cell_type": "markdown",
   "metadata": {},
   "source": [
    "### Using requests to get JSON data from a web site.\n",
    "https://www.w3schools.com/python/module_requests.asp\n",
    "\n",
    "If you don't have the requests module installed just use pip as shown below\n",
    "\n",
    "***pip install requests***"
   ]
  },
  {
   "cell_type": "code",
   "execution_count": 9,
   "metadata": {},
   "outputs": [],
   "source": [
    "import requests\n",
    "\n",
    "countries_api_res = requests.get('http://api.worldbank.org/countries?format=json&per_page=100')\n",
    "countries = countries_api_res.json()[1]"
   ]
  },
  {
   "cell_type": "code",
   "execution_count": 10,
   "metadata": {},
   "outputs": [
    {
     "name": "stdout",
     "output_type": "stream",
     "text": [
      "{'adminregion': {'id': '', 'iso2code': '', 'value': ''},\n",
      " 'capitalCity': 'Oranjestad',\n",
      " 'id': 'ABW',\n",
      " 'incomeLevel': {'id': 'HIC', 'iso2code': 'XD', 'value': 'High income'},\n",
      " 'iso2Code': 'AW',\n",
      " 'latitude': '12.5167',\n",
      " 'lendingType': {'id': 'LNX', 'iso2code': 'XX', 'value': 'Not classified'},\n",
      " 'longitude': '-70.0167',\n",
      " 'name': 'Aruba',\n",
      " 'region': {'id': 'LCN',\n",
      "            'iso2code': 'ZJ',\n",
      "            'value': 'Latin America & Caribbean '}}\n"
     ]
    }
   ],
   "source": [
    "import pprint\n",
    "\n",
    "pprint.pprint(countries[0])"
   ]
  },
  {
   "cell_type": "code",
   "execution_count": 11,
   "metadata": {},
   "outputs": [],
   "source": [
    "cursor.executescript('''\n",
    "\n",
    "DROP TABLE IF EXISTS countries;\n",
    "\n",
    "CREATE TABLE countries (id varchar(3), data json)\n",
    "''');"
   ]
  },
  {
   "cell_type": "markdown",
   "metadata": {},
   "source": [
    "## Inserting the JSON into a SQLite table\n",
    "\n",
    "Note:  json is included in the standard Python distibution"
   ]
  },
  {
   "cell_type": "markdown",
   "metadata": {},
   "source": [
    "### json.dumps() \n",
    "\n",
    "Serialize obj to a JSON formatted str using this conversion table. The arguments have the same meaning as in dump().\n",
    "\n",
    "#### Documentation\n",
    "https://docs.python.org/3/library/json.html"
   ]
  },
  {
   "cell_type": "code",
   "execution_count": 12,
   "metadata": {},
   "outputs": [],
   "source": [
    "import json\n",
    "\n",
    "for country in countries:\n",
    "    cursor.execute(\"insert into countries values (?, ?)\",\n",
    "                    [country['id'], json.dumps(country)])\n",
    "    conn.commit()"
   ]
  },
  {
   "cell_type": "markdown",
   "metadata": {},
   "source": [
    "## Query the data using select"
   ]
  },
  {
   "cell_type": "code",
   "execution_count": 15,
   "metadata": {},
   "outputs": [
    {
     "data": {
      "text/plain": [
       "[('[\"Aruba\",\"AW\",\"ABW\"]',),\n",
       " ('[\"Africa Eastern and Southern\",\"ZH\",\"AFE\"]',),\n",
       " ('[\"Afghanistan\",\"AF\",\"AFG\"]',),\n",
       " ('[\"Africa\",\"A9\",\"AFR\"]',),\n",
       " ('[\"Africa Western and Central\",\"ZI\",\"AFW\"]',),\n",
       " ('[\"Angola\",\"AO\",\"AGO\"]',),\n",
       " ('[\"Albania\",\"AL\",\"ALB\"]',),\n",
       " ('[\"Andorra\",\"AD\",\"AND\"]',)]"
      ]
     },
     "execution_count": 15,
     "metadata": {},
     "output_type": "execute_result"
    }
   ],
   "source": [
    "cursor.execute('''select json_extract(data, '$.name', '$.iso2Code', '$.id') from countries;''').fetchmany(8)"
   ]
  },
  {
   "cell_type": "code",
   "execution_count": 16,
   "metadata": {},
   "outputs": [
    {
     "data": {
      "text/plain": [
       "list"
      ]
     },
     "execution_count": 16,
     "metadata": {},
     "output_type": "execute_result"
    }
   ],
   "source": [
    "x = cursor.execute('''select json_extract(data, '$.name', '$.iso2Code', '$.id') from countries;''').fetchmany(8)\n",
    "type(x)"
   ]
  },
  {
   "cell_type": "markdown",
   "metadata": {},
   "source": [
    "## Query the JSON data using pandas"
   ]
  },
  {
   "cell_type": "code",
   "execution_count": 17,
   "metadata": {},
   "outputs": [
    {
     "data": {
      "text/html": [
       "<div>\n",
       "<style scoped>\n",
       "    .dataframe tbody tr th:only-of-type {\n",
       "        vertical-align: middle;\n",
       "    }\n",
       "\n",
       "    .dataframe tbody tr th {\n",
       "        vertical-align: top;\n",
       "    }\n",
       "\n",
       "    .dataframe thead th {\n",
       "        text-align: right;\n",
       "    }\n",
       "</style>\n",
       "<table border=\"1\" class=\"dataframe\">\n",
       "  <thead>\n",
       "    <tr style=\"text-align: right;\">\n",
       "      <th></th>\n",
       "      <th>countrydata</th>\n",
       "    </tr>\n",
       "  </thead>\n",
       "  <tbody>\n",
       "    <tr>\n",
       "      <th>0</th>\n",
       "      <td>[\"Aruba\",\"AW\",\"ABW\"]</td>\n",
       "    </tr>\n",
       "    <tr>\n",
       "      <th>1</th>\n",
       "      <td>[\"Africa Eastern and Southern\",\"ZH\",\"AFE\"]</td>\n",
       "    </tr>\n",
       "    <tr>\n",
       "      <th>2</th>\n",
       "      <td>[\"Afghanistan\",\"AF\",\"AFG\"]</td>\n",
       "    </tr>\n",
       "  </tbody>\n",
       "</table>\n",
       "</div>"
      ],
      "text/plain": [
       "                                  countrydata\n",
       "0                        [\"Aruba\",\"AW\",\"ABW\"]\n",
       "1  [\"Africa Eastern and Southern\",\"ZH\",\"AFE\"]\n",
       "2                  [\"Afghanistan\",\"AF\",\"AFG\"]"
      ]
     },
     "execution_count": 17,
     "metadata": {},
     "output_type": "execute_result"
    }
   ],
   "source": [
    "import sqlite3\n",
    "import pandas as pd\n",
    "\n",
    "pd.read_sql_query('''\n",
    "select json_extract(data, '$.name', '$.iso2Code', '$.id') as countrydata\n",
    "from countries\n",
    "limit 3;''', conn)"
   ]
  },
  {
   "cell_type": "markdown",
   "metadata": {},
   "source": [
    "## Query each JSON attribute as a separate column"
   ]
  },
  {
   "cell_type": "code",
   "execution_count": 18,
   "metadata": {},
   "outputs": [
    {
     "data": {
      "text/html": [
       "<div>\n",
       "<style scoped>\n",
       "    .dataframe tbody tr th:only-of-type {\n",
       "        vertical-align: middle;\n",
       "    }\n",
       "\n",
       "    .dataframe tbody tr th {\n",
       "        vertical-align: top;\n",
       "    }\n",
       "\n",
       "    .dataframe thead th {\n",
       "        text-align: right;\n",
       "    }\n",
       "</style>\n",
       "<table border=\"1\" class=\"dataframe\">\n",
       "  <thead>\n",
       "    <tr style=\"text-align: right;\">\n",
       "      <th></th>\n",
       "      <th>name</th>\n",
       "      <th>id</th>\n",
       "      <th>iso2Code</th>\n",
       "    </tr>\n",
       "  </thead>\n",
       "  <tbody>\n",
       "    <tr>\n",
       "      <th>0</th>\n",
       "      <td>Arab World</td>\n",
       "      <td>ARB</td>\n",
       "      <td>1A</td>\n",
       "    </tr>\n",
       "    <tr>\n",
       "      <th>1</th>\n",
       "      <td>East Asia &amp; Pacific (excluding high income)</td>\n",
       "      <td>EAP</td>\n",
       "      <td>4E</td>\n",
       "    </tr>\n",
       "    <tr>\n",
       "      <th>2</th>\n",
       "      <td>Europe &amp; Central Asia (excluding high income)</td>\n",
       "      <td>ECA</td>\n",
       "      <td>7E</td>\n",
       "    </tr>\n",
       "    <tr>\n",
       "      <th>3</th>\n",
       "      <td>Africa</td>\n",
       "      <td>AFR</td>\n",
       "      <td>A9</td>\n",
       "    </tr>\n",
       "    <tr>\n",
       "      <th>4</th>\n",
       "      <td>Andorra</td>\n",
       "      <td>AND</td>\n",
       "      <td>AD</td>\n",
       "    </tr>\n",
       "  </tbody>\n",
       "</table>\n",
       "</div>"
      ],
      "text/plain": [
       "                                            name   id iso2Code\n",
       "0                                     Arab World  ARB       1A\n",
       "1    East Asia & Pacific (excluding high income)  EAP       4E\n",
       "2  Europe & Central Asia (excluding high income)  ECA       7E\n",
       "3                                         Africa  AFR       A9\n",
       "4                                        Andorra  AND       AD"
      ]
     },
     "execution_count": 18,
     "metadata": {},
     "output_type": "execute_result"
    }
   ],
   "source": [
    "import sqlite3\n",
    "import pandas as pd\n",
    "\n",
    "pd.read_sql_query('''\n",
    "select json_extract(data, '$.name') as name,\n",
    "json_extract(data, '$.id') as id,\n",
    "json_extract(data, '$.iso2Code') as iso2Code \n",
    "from countries\n",
    "order by iso2code\n",
    "limit 5;''', conn)"
   ]
  },
  {
   "cell_type": "markdown",
   "metadata": {},
   "source": [
    "## Exploring the JSON data"
   ]
  },
  {
   "cell_type": "code",
   "execution_count": 14,
   "metadata": {},
   "outputs": [
    {
     "data": {
      "text/plain": [
       "[(1,\n",
       "  '$',\n",
       "  '{\"id\":\"ABW\",\"iso2Code\":\"AW\",\"name\":\"Aruba\",\"region\":{\"id\":\"LCN\",\"iso2code\":\"ZJ\",\"value\":\"Latin America & Caribbean \"},\"adminregion\":{\"id\":\"\",\"iso2code\":\"\",\"value\":\"\"},\"incomeLevel\":{\"id\":\"HIC\",\"iso2code\":\"XD\",\"value\":\"High income\"},\"lendingType\":{\"id\":\"LNX\",\"iso2code\":\"XX\",\"value\":\"Not classified\"},\"capitalCity\":\"Oranjestad\",\"longitude\":\"-70.0167\",\"latitude\":\"12.5167\"}'),\n",
       " (1, '$.id', 'ABW'),\n",
       " (1, '$.iso2Code', 'AW'),\n",
       " (1, '$.name', 'Aruba'),\n",
       " (1,\n",
       "  '$.region',\n",
       "  '{\"id\":\"LCN\",\"iso2code\":\"ZJ\",\"value\":\"Latin America & Caribbean \"}'),\n",
       " (1, '$.region.id', 'LCN'),\n",
       " (1, '$.region.iso2code', 'ZJ'),\n",
       " (1, '$.region.value', 'Latin America & Caribbean '),\n",
       " (1, '$.adminregion', '{\"id\":\"\",\"iso2code\":\"\",\"value\":\"\"}'),\n",
       " (1, '$.adminregion.id', '')]"
      ]
     },
     "execution_count": 14,
     "metadata": {},
     "output_type": "execute_result"
    }
   ],
   "source": [
    "cursor.execute('''SELECT countries.rowid, fullkey, value\n",
    "  FROM countries, json_tree(countries.data) \n",
    "''' ).fetchmany(10)"
   ]
  },
  {
   "cell_type": "markdown",
   "metadata": {},
   "source": [
    "## Close the database connection and cursor"
   ]
  },
  {
   "cell_type": "code",
   "execution_count": 15,
   "metadata": {},
   "outputs": [],
   "source": [
    "cursor.close()\n",
    "conn.close()"
   ]
  }
 ],
 "metadata": {
  "kernelspec": {
   "display_name": "Python 3 (ipykernel)",
   "language": "python",
   "name": "python3"
  },
  "language_info": {
   "codemirror_mode": {
    "name": "ipython",
    "version": 3
   },
   "file_extension": ".py",
   "mimetype": "text/x-python",
   "name": "python",
   "nbconvert_exporter": "python",
   "pygments_lexer": "ipython3",
   "version": "3.9.13"
  }
 },
 "nbformat": 4,
 "nbformat_minor": 4
}
